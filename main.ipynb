{
 "cells": [
  {
   "cell_type": "code",
   "id": "initial_id",
   "metadata": {
    "collapsed": true,
    "ExecuteTime": {
     "end_time": "2025-02-17T22:24:06.597929Z",
     "start_time": "2025-02-17T22:24:06.587956Z"
    }
   },
   "source": [
    "from colorsys import yiq_to_rgb\n",
    "from random import Random\n",
    "\n",
    "from rdkit.Chem import AllChem\n",
    "from rdkit import Chem\n",
    "from collections import deque\n",
    "import py3Dmol\n",
    "import math\n",
    "import numpy as np\n",
    "import os\n",
    "import pandas as pd\n",
    "import glob\n",
    "import re\n",
    "\n",
    "from scipy.stats import bootstrap\n"
   ],
   "outputs": [],
   "execution_count": 291
  },
  {
   "metadata": {
    "ExecuteTime": {
     "end_time": "2025-02-17T22:24:06.627819Z",
     "start_time": "2025-02-17T22:24:06.615587Z"
    }
   },
   "cell_type": "code",
   "source": [
    "def xyz_to_array(xyz_file):\n",
    "    #oth index is num atoms\n",
    "    #ith index is ith atom ID\n",
    "    with open(xyz_file, 'r', encoding= 'utf-8') as file:\n",
    "        lines = file.readlines()\n",
    "\n",
    "    num_atoms = int(lines[0].strip())\n",
    "    coordinates = []\n",
    "    coordinates.append(num_atoms)\n",
    "\n",
    "    for line in lines[2:]:\n",
    "        parts = line.split()\n",
    "        x, y, z = map(float, parts[1:4])\n",
    "        coordinates.append([x, y, z])\n",
    "    return coordinates\n",
    "\n",
    "def bfs_traversal(mol,startingID):\n",
    "    visited = set()\n",
    "    queue = deque([startingID])\n",
    "    bfs_order = []\n",
    "    while queue:\n",
    "        atom_id = queue.popleft()\n",
    "        if atom_id not in visited:\n",
    "            visited.add(atom_id)\n",
    "            bfs_order.append(atom_id)\n",
    "        atom = mol.GetAtomWithIdx(atom_id)\n",
    "        for neighbor in atom.GetNeighbors():\n",
    "            if neighbor.GetIdx() not in visited:\n",
    "                queue.append(neighbor.GetIdx())\n",
    "                \n",
    "    bfs_nitrogens = []\n",
    "    for id in bfs_order:\n",
    "        if mol.GetAtomWithIdx(id).GetSymbol() == 'N':\n",
    "            bfs_nitrogens.append(id)\n",
    "        \n",
    "    return bfs_nitrogens\n",
    "\n",
    "def sort_files(s):\n",
    "    return [int(text) if text.isdigit() else text for text in re.split(r'(\\d+)', os.path.basename(s))]\n",
    "\n",
    "\n",
    "\n",
    "class Peptide:\n",
    "\n",
    "    peptide_registry ={} # each peptide will store itself in the library\n",
    "\n",
    "    def __init__(self, smiles_code, PercentCyclization, name, csv_of_properties):\n",
    "        self.molecule = Chem.AddHs(Chem.MolFromSmiles(smiles_code))\n",
    "        AllChem.EmbedMolecule(self.molecule)\n",
    "        self.atom_IDs = [atom.GetIdx() for atom in self.molecule.GetAtoms()]\n",
    "        self.conformers = []\n",
    "        self.amideGroups = []\n",
    "        self.PercentCyclization = PercentCyclization\n",
    "        self.Name = name\n",
    "        self.properties = pd.read_csv(csv_of_properties).to_dict(orient=\"records\")\n",
    "        Peptide.peptide_registry[name] = self #the key is the name, the oobject is the peptide itself\n",
    "        \n",
    "    def getProperties(self):\n",
    "        return self.properties\n",
    "\n",
    "    def getName(self):\n",
    "        return self.Name\n",
    "\n",
    "    def getPercentCyclization(self):\n",
    "        return self.PercentCyclization\n",
    "\n",
    "    def csearch(self):\n",
    "        pass # = Conformer(self, xyz)\n",
    "\n",
    "    def addConformer(self, conformer):\n",
    "        self.conformers.append(conformer)\n",
    "\n",
    "    def getConformers(self):\n",
    "        return self.conformers\n",
    "\n",
    "    def addAmides(self):\n",
    "        self.amideGroups = []\n",
    "        group = Chem.MolFromSmarts('[C](=[O])-[N]')\n",
    "        n_terminus =Chem.MolFromSmarts('[N;H2]')\n",
    "        matches = self.molecule.GetSubstructMatches(group)\n",
    "        n_terminus_match = self.molecule.GetSubstructMatch(n_terminus)\n",
    "        n_terminus_id = n_terminus_match[0]\n",
    "        bfs_order = bfs_traversal(self.molecule,n_terminus_id)\n",
    "        i= 1\n",
    "        for nID in bfs_order:\n",
    "            for match in matches:\n",
    "                if nID in match:\n",
    "                    self.amideGroups.append(AmideGroup(match,i,self))\n",
    "                    i+=1\n",
    "                    \n",
    "                \n",
    "        return \"Added \" + str(len(matches)) + \" Amide groups to GroupIDs.\"\n",
    "\n",
    "\n",
    "class Conformer(Peptide):\n",
    "    def __init__(self, parent_peptide: Peptide, xyz_file, relative_energy):\n",
    "        self.atom_coordinates = xyz_to_array(xyz_file)\n",
    "        self.relative_energy = relative_energy\n",
    "        self.parent_peptide = parent_peptide\n",
    "\n",
    "    def getAmideDistances(self):\n",
    "        distance_matrix = [[0.0 for _ in range(len(self.parent_peptide.amideGroups))] for _ in range(len(self.parent_peptide.amideGroups))]\n",
    "        for i,amid1 in enumerate(self.parent_peptide.amideGroups):\n",
    "            for j,amid2 in enumerate(self.parent_peptide.amideGroups):\n",
    "                if i == j and amid1.getH() is not None:\n",
    "                    distance_matrix[i][j] = 0.0\n",
    "                else:\n",
    "                    amid1H = amid1.getH()\n",
    "                    if amid1H is None:\n",
    "                        distance_matrix[i][j] = -1.0 #prolines have no nitrogen Hydrogen, so the distance is non existant\n",
    "                    else:\n",
    "                        amid2O = amid2.getO()\n",
    "                        amid1H_pos = self.atom_coordinates[amid1H]\n",
    "                        amid2O_pos = self.atom_coordinates[amid2O]\n",
    "                        distance = ((amid1H_pos[0] - amid2O_pos[0])**2 + (amid1H_pos[1] - amid2O_pos[1])**2 + (amid1H_pos[2] - amid2O_pos[2])**2)**0.5\n",
    "                        distance_matrix[i][j] = distance\n",
    "        return distance_matrix\n",
    "\n",
    "\n",
    "\n",
    "\n",
    "class AmideGroup:\n",
    "\n",
    "    def __init__(self, atom_IDs, group_num, Peptide):\n",
    "        self.group_num = group_num\n",
    "        self.atom_IDs = atom_IDs\n",
    "        self.C = self.atom_IDs[0]\n",
    "        self.O = self.atom_IDs[1]\n",
    "        self.N = self.atom_IDs[2]\n",
    "\n",
    "        nitrogen = Peptide.molecule.GetAtomWithIdx(self.N)\n",
    "        neighbors = nitrogen.GetNeighbors()\n",
    "        hydrogen_id = None\n",
    "\n",
    "        for neighbor in neighbors:\n",
    "            if neighbor.GetSymbol() == 'H':\n",
    "                hydrogen_id = neighbor.GetIdx()\n",
    "                break\n",
    "        self.H = hydrogen_id\n",
    "\n",
    "\n",
    "    def getIDs(self):\n",
    "        return self.atom_IDs\n",
    "    def getC(self):\n",
    "        return self.C\n",
    "    def getO(self):\n",
    "        return self.O\n",
    "    def getN(self):\n",
    "        return self.N\n",
    "    def getH(self):\n",
    "        return self.H\n",
    "    def getGroupNum(self):\n",
    "        return self.group_num\n"
   ],
   "id": "7c6e929d8edaf66f",
   "outputs": [],
   "execution_count": 292
  },
  {
   "metadata": {
    "ExecuteTime": {
     "end_time": "2025-02-17T22:28:03.611308Z",
     "start_time": "2025-02-17T22:25:58.542576Z"
    }
   },
   "cell_type": "code",
   "source": [
    "peptides = []\n",
    "df = pd.read_csv(\"PeptideCyclizationSmiles.csv\") #readas all peptide data\n",
    "df = df[['Address','Smiles','Percent cyclization']].dropna() # drops other columns\n",
    "peptide_data = df.set_index('Address').to_dict(orient=\"index\") #makes data a dictionary accessible by the name of the peptide\n",
    "\n",
    "#/Users/zaan/zasaeed@g.hmc.edu - Google Drive/My Drive/OMO Lab - Peptide Cyclization - Zaan Saeed/Data/Peptide Library\n",
    "#/Users/zaansaeed/Google Drive/My Drive/OMO Lab - Peptide Cyclization - Zaan Saeed/Data/Peptide Library\n",
    "for folder_name in os.listdir(\"/Users/zaansaeed/Google Drive/My Drive/OMO Lab - Peptide Cyclization - Zaan Saeed/Data/Peptide Library\"):\n",
    "    if folder_name.endswith(\"XYZ\"):\n",
    "        files = sorted(glob.glob(f\"{\"/Users/zaansaeed/Google Drive/My Drive/OMO Lab - Peptide Cyclization - Zaan Saeed/Data/Peptide Library/\" + folder_name}/**/*\",recursive=True),key=sort_files)\n",
    "        peptide_name = folder_name[:4]\n",
    "        peptide_csv = files[0]\n",
    "        print(folder_name)\n",
    "    \n",
    "    \n",
    "        if peptide_name in peptide_data.keys():\n",
    "            smiles = peptide_data[peptide_name]['Smiles']\n",
    "            percent = peptide_data[peptide_name]['Percent cyclization']\n",
    "            peptide = Peptide(smiles, percent, peptide_name,peptide_csv)\n",
    "            for i,file in enumerate(files):\n",
    "\n",
    "                if file.endswith(\".xyz\"):\n",
    "                    peptide.addConformer(Conformer(peptide, os.path.abspath(file),peptide.getProperties()[i-1]['Potential Energy-OPLS-2005'])) # adds a conformer where the energy for this conformer is at i-1 in the list since i is actually i+1 because the 0th index in files is the csv\n",
    "    \n",
    "            peptides.append(peptide)\n",
    "\n",
    "\n"
   ],
   "id": "513e869bb4d6a912",
   "outputs": [
    {
     "name": "stdout",
     "output_type": "stream",
     "text": [
      "R7C5_XYZ\n",
      "R1C2_XYZ\n",
      "R5C4_XYZ\n",
      "R3C2_XYZ\n",
      "R1C1_XYZ\n",
      "R3C3_XYZ\n",
      "R5C5_XYZ\n",
      "R1C4_XYZ\n",
      "R3C6_XYZ\n",
      "R5C2_XYZ\n",
      "R1C6_XYZ\n",
      "R5C3_XYZ\n",
      "R2C2_XYZ\n",
      "R6C6_XYZ\n",
      "R8C8_XYZ\n",
      "R6C7_XYZ\n",
      "R4C5_XYZ\n",
      "R2C1_XYZ\n",
      "R4C7_XYZ\n",
      "R6C5_XYZ\n",
      "R6C4_XYZ\n",
      "R6C1_XYZ\n",
      "R4C3_XYZ\n",
      "R4C1_XYZ\n",
      "R6C3_XYZ\n",
      "R6C2_XYZ\n",
      "R8C1_XYZ\n",
      "R2C8_XYZ\n",
      "R8C3_XYZ\n",
      "R8C6_XYZ\n",
      "R8C7_XYZ\n",
      "R6C8_XYZ\n",
      "R4C8_XYZ\n",
      "R8C5_XYZ\n",
      "R3C8_XYZ\n",
      "R5C8_XYZ\n"
     ]
    }
   ],
   "execution_count": 294
  },
  {
   "metadata": {
    "ExecuteTime": {
     "end_time": "2025-02-17T22:29:37.430411Z",
     "start_time": "2025-02-17T22:28:34.629749Z"
    }
   },
   "cell_type": "code",
   "source": [
    "def boltzmann(values, properties_of_each_conformer):\n",
    "    numerator = 0\n",
    "    denominator = 0\n",
    "    boltzmann_results = []\n",
    "    new_array = []\n",
    "    for amide_array in range(len(values)):\n",
    "        new_array = []\n",
    "        for amide_row in range(len(values[0])):\n",
    "            new_row =[]\n",
    "            for amide_col in range(len(values[0][0])):\n",
    "                e_term = 0\n",
    "                denominator = 0\n",
    "                numerator = 0\n",
    "                answer = 0\n",
    "                for k in range(len(properties_of_each_conformer)):\n",
    "                    e_term = math.exp(-(properties_of_each_conformer[k]['Potential Energy-OPLS-2005'])/(298*8.314 * 10**-3))\n",
    "                    denominator += e_term\n",
    "                    \n",
    "                    numerator += e_term * values[k][amide_row][amide_col]\n",
    "                    answer = numerator/denominator\n",
    "                new_row.append(answer)\n",
    "            new_array.append(new_row)\n",
    "    boltzmann_results.append(new_array)\n",
    "            \n",
    "    return boltzmann_results            \n",
    "                \n",
    "                \n",
    "\n",
    "\n",
    "\n",
    "boltzmann_amide_distances = {}\n",
    "\n",
    "for peptide in peptides:\n",
    "    peptide.addAmides()\n",
    "    amide_distances_of_all_conformers = []\n",
    "    for conformer in peptide.getConformers():\n",
    "        amide_distances_of_all_conformers.append(conformer.getAmideDistances())\n",
    "        \n",
    "    boltzmann_amide_distances[peptide.getName()] = boltzmann(amide_distances_of_all_conformers, peptide.getProperties())\n",
    "        \n",
    "        \n",
    "        \n",
    "    \n"
   ],
   "id": "c508f082e29275",
   "outputs": [],
   "execution_count": 295
  },
  {
   "metadata": {
    "ExecuteTime": {
     "end_time": "2025-02-17T22:34:17.674212Z",
     "start_time": "2025-02-17T22:34:17.671936Z"
    }
   },
   "cell_type": "code",
   "source": [
    "r1c1= boltzmann_amide_distances.pop('R1C1')\n",
    "\n",
    "print(r1c1)\n"
   ],
   "id": "ceb95a351573877c",
   "outputs": [
    {
     "name": "stdout",
     "output_type": "stream",
     "text": [
      "[[[0.0, 6.768659094864016, 5.759690461532714, 10.5696685294486, 8.752583608581753, 10.98340626132631], [11.310153142718605, 0.0, 6.543277307141431, 11.885683124206789, 10.047989276039429, 11.464874391836926], [7.786121140708103, 9.087055829659718, 0.0, 7.134900756267612, 7.660872905271289, 9.049232492276138], [7.117314084894646, 5.016185580935813, 4.498853238585192, 0.0, 6.004714090550492, 7.8176742893698545], [4.855520636292263, 10.457315088316326, 9.08352690225936, 5.172948740707667, 0.0, 2.1607205742467426], [10.723999949921806, 2.159391633694803, 8.843690571393838, 10.892661161924849, 9.925872920410388, 0.0]]]\n"
     ]
    }
   ],
   "execution_count": 296
  },
  {
   "metadata": {
    "ExecuteTime": {
     "end_time": "2025-02-17T22:34:19.495801Z",
     "start_time": "2025-02-17T22:34:19.493128Z"
    }
   },
   "cell_type": "code",
   "source": "print(r1c1)",
   "id": "8793191237ca1151",
   "outputs": [
    {
     "name": "stdout",
     "output_type": "stream",
     "text": [
      "[[[0.0, 6.768659094864016, 5.759690461532714, 10.5696685294486, 8.752583608581753, 10.98340626132631], [11.310153142718605, 0.0, 6.543277307141431, 11.885683124206789, 10.047989276039429, 11.464874391836926], [7.786121140708103, 9.087055829659718, 0.0, 7.134900756267612, 7.660872905271289, 9.049232492276138], [7.117314084894646, 5.016185580935813, 4.498853238585192, 0.0, 6.004714090550492, 7.8176742893698545], [4.855520636292263, 10.457315088316326, 9.08352690225936, 5.172948740707667, 0.0, 2.1607205742467426], [10.723999949921806, 2.159391633694803, 8.843690571393838, 10.892661161924849, 9.925872920410388, 0.0]]]\n"
     ]
    }
   ],
   "execution_count": 297
  },
  {
   "metadata": {
    "ExecuteTime": {
     "end_time": "2025-02-17T22:34:21.100043Z",
     "start_time": "2025-02-17T22:34:21.097104Z"
    }
   },
   "cell_type": "code",
   "source": [
    "def pad2DArray(array, max): #assumes that array is a square, and is being extended to be max * max size\n",
    "    for i in array:\n",
    "        for j in i:\n",
    "            while(len(j)<max):\n",
    "                j.append(0.0)\n",
    "        while(len(i)<max):\n",
    "            i.append([0]*max)\n",
    "    return array\n"
   ],
   "id": "b251b924508a5cc9",
   "outputs": [],
   "execution_count": 298
  },
  {
   "metadata": {
    "ExecuteTime": {
     "end_time": "2025-02-17T22:34:22.394655Z",
     "start_time": "2025-02-17T22:34:22.392350Z"
    }
   },
   "cell_type": "code",
   "source": [
    "r1c1= pad2DArray(r1c1,7)\n",
    "print(r1c1)"
   ],
   "id": "bcf31aba5715aaf0",
   "outputs": [
    {
     "name": "stdout",
     "output_type": "stream",
     "text": [
      "[[[0.0, 6.768659094864016, 5.759690461532714, 10.5696685294486, 8.752583608581753, 10.98340626132631, 0.0], [11.310153142718605, 0.0, 6.543277307141431, 11.885683124206789, 10.047989276039429, 11.464874391836926, 0.0], [7.786121140708103, 9.087055829659718, 0.0, 7.134900756267612, 7.660872905271289, 9.049232492276138, 0.0], [7.117314084894646, 5.016185580935813, 4.498853238585192, 0.0, 6.004714090550492, 7.8176742893698545, 0.0], [4.855520636292263, 10.457315088316326, 9.08352690225936, 5.172948740707667, 0.0, 2.1607205742467426, 0.0], [10.723999949921806, 2.159391633694803, 8.843690571393838, 10.892661161924849, 9.925872920410388, 0.0, 0.0], [0, 0, 0, 0, 0, 0, 0]]]\n"
     ]
    }
   ],
   "execution_count": 299
  },
  {
   "metadata": {
    "ExecuteTime": {
     "end_time": "2025-02-17T22:34:24.327929Z",
     "start_time": "2025-02-17T22:34:24.325210Z"
    }
   },
   "cell_type": "code",
   "source": [
    "X = []\n",
    "Y = []\n",
    "for name, distance_matrix in boltzmann_amide_distances.items():\n",
    "    X.append(pad2DArray(distance_matrix,7))\n",
    "    if (Peptide.peptide_registry[name].getPercentCyclization()>90):\n",
    "        Y.append(1)\n",
    "    else:\n",
    "        Y.append(0)\n",
    "\n",
    "#    elif(Peptide.peptide_registry[name].getPercentCyclization()>80 and Peptide.peptide_registry[name].getPercentCyclization()<=96.5):\n",
    "  #      Y.append(1)\n"
   ],
   "id": "41329f80753b6283",
   "outputs": [],
   "execution_count": 300
  },
  {
   "metadata": {
    "ExecuteTime": {
     "end_time": "2025-02-17T22:34:26.461468Z",
     "start_time": "2025-02-17T22:34:26.458280Z"
    }
   },
   "cell_type": "code",
   "source": [
    "X = np.array(X)\n",
    "X = X.reshape(len(X), -1)\n",
    "Y = np.array(Y)\n",
    "r1c1 =np.array(r1c1)\n",
    "r1c1 =r1c1.reshape(len(r1c1), -1)\n",
    "print(Y)\n",
    "print(len(r1c1))\n"
   ],
   "id": "dd275df4c6e7b28c",
   "outputs": [
    {
     "name": "stdout",
     "output_type": "stream",
     "text": [
      "[1 1 1 1 1 1 1 1 1 1 0 0 0 0 0 1 1 1 0 0 0 1 1 0 0 0 1 0 0 0 0 1 0 1 1]\n",
      "1\n"
     ]
    }
   ],
   "execution_count": 301
  },
  {
   "metadata": {
    "ExecuteTime": {
     "end_time": "2025-02-17T22:34:56.165443Z",
     "start_time": "2025-02-17T22:34:28.196812Z"
    }
   },
   "cell_type": "code",
   "source": [
    "import numpy as np\n",
    "from sklearn.ensemble import RandomForestClassifier\n",
    "from sklearn.model_selection import train_test_split, GridSearchCV\n",
    "from sklearn.metrics import accuracy_score, classification_report\n",
    "\n",
    "\n",
    "# Splitting data into training and testing sets\n",
    "X_train, X_test, Y_train, Y_test = train_test_split(X, Y, test_size=0.4, random_state=42)\n",
    "\n",
    "param_grid = {\n",
    "    'n_estimators': [100, 200, 300],  # Number of trees in the forest\n",
    "    'max_depth': [None, 10, 20, 30],  # Maximum depth of each tree\n",
    "    'min_samples_split': [2, 5, 10],  # Minimum number of samples to split an internal node\n",
    "    'min_samples_leaf': [1, 2, 4],  # Minimum number of samples required at a leaf node\n",
    "    'max_features': ['sqrt', 'log2'],  # Number of features to consider at each split\n",
    "    'bootstrap': [True, False],  # Whether bootstrap samples are used when building trees\n",
    "}\n",
    "model = RandomForestClassifier(random_state=42)\n",
    "grid_search = GridSearchCV(estimator=model, param_grid=param_grid, n_jobs=-1,cv=4,verbose=2, scoring='accuracy')\n",
    "grid_search.fit(X_train, Y_train)\n",
    "print(grid_search.best_params_)\n",
    "\n"
   ],
   "id": "f277d37c75ad3cee",
   "outputs": [
    {
     "name": "stdout",
     "output_type": "stream",
     "text": [
      "Fitting 4 folds for each of 432 candidates, totalling 1728 fits\n",
      "{'bootstrap': False, 'max_depth': None, 'max_features': 'log2', 'min_samples_leaf': 2, 'min_samples_split': 5, 'n_estimators': 200}\n"
     ]
    }
   ],
   "execution_count": 302
  },
  {
   "metadata": {
    "ExecuteTime": {
     "end_time": "2025-02-17T22:35:00.336963Z",
     "start_time": "2025-02-17T22:35:00.321864Z"
    }
   },
   "cell_type": "code",
   "source": [
    "y_pred=grid_search.predict(X_test)\n",
    "\n",
    "accuracy = accuracy_score(Y_test, y_pred)\n",
    "print(\"Accuracy: \",accuracy )\n",
    "print(classification_report(Y_test,y_pred))"
   ],
   "id": "4bf967d55826a721",
   "outputs": [
    {
     "name": "stdout",
     "output_type": "stream",
     "text": [
      "Accuracy:  0.6428571428571429\n",
      "              precision    recall  f1-score   support\n",
      "\n",
      "           0       0.50      0.60      0.55         5\n",
      "           1       0.75      0.67      0.71         9\n",
      "\n",
      "    accuracy                           0.64        14\n",
      "   macro avg       0.62      0.63      0.63        14\n",
      "weighted avg       0.66      0.64      0.65        14\n",
      "\n"
     ]
    }
   ],
   "execution_count": 303
  },
  {
   "metadata": {
    "ExecuteTime": {
     "end_time": "2025-02-17T22:39:25.968311Z",
     "start_time": "2025-02-17T22:39:25.960188Z"
    }
   },
   "cell_type": "code",
   "source": [
    "r1c1_pred = grid_search.predict(r1c1)\n",
    "print(r1c1_pred)"
   ],
   "id": "ccdc85cc72a06d1",
   "outputs": [
    {
     "name": "stdout",
     "output_type": "stream",
     "text": [
      "[1]\n"
     ]
    }
   ],
   "execution_count": 304
  },
  {
   "metadata": {
    "ExecuteTime": {
     "end_time": "2025-02-17T23:09:29.500045Z",
     "start_time": "2025-02-17T23:09:29.496497Z"
    }
   },
   "cell_type": "code",
   "source": [
    "from sklearn.metrics import confusion_matrix\n",
    "confusion_matrix = confusion_matrix(Y_test, y_pred)\n",
    "print(confusion_matrix)"
   ],
   "id": "67c9aa393e26b77e",
   "outputs": [
    {
     "name": "stdout",
     "output_type": "stream",
     "text": [
      "[[3 2]\n",
      " [3 6]]\n"
     ]
    }
   ],
   "execution_count": 311
  },
  {
   "metadata": {
    "ExecuteTime": {
     "end_time": "2025-02-17T22:42:59.509387Z",
     "start_time": "2025-02-17T22:42:59.498729Z"
    }
   },
   "cell_type": "code",
   "outputs": [
    {
     "name": "stdout",
     "output_type": "stream",
     "text": [
      "[ 1 28 21 23 38 33 39 31 37  2  3 22  5 36 12  4 35  7 29 11 10  9 26 30\n",
      " 25 15 32 18 17 16 19 14  8  6 48 24 13 20 47 27 34 40 41 42 43 44 45 46\n",
      "  0]\n"
     ]
    }
   ],
   "execution_count": 305,
   "source": [
    "import matplotlib.pyplot as plt\n",
    "importances = grid_search.best_estimator_.feature_importances_\n",
    "indices = np.argsort(importances)[::-1]\n",
    "\n"
   ],
   "id": "d8fe2c0d89988b6c"
  },
  {
   "metadata": {
    "ExecuteTime": {
     "end_time": "2025-02-17T22:45:40.840121Z",
     "start_time": "2025-02-17T22:45:40.747202Z"
    }
   },
   "cell_type": "code",
   "source": [
    "plt.figure(figsize=(10,10))\n",
    "plt.title(\"Feature Importances\")\n",
    "plt.bar(range(X.shape[1]), importances[indices], color=\"r\", align=\"center\")\n",
    "plt.xticks(range(X.shape[1]), [f\"Feature Number {i}\" for i in indices], rotation=90)\n",
    "plt.xlim([-1, X.shape[1]])\n",
    "plt.show()"
   ],
   "id": "17eb2892f8a44722",
   "outputs": [
    {
     "data": {
      "text/plain": [
       "<Figure size 1000x1000 with 1 Axes>"
      ],
      "image/png": "[encoded data removed]"
     },
     "metadata": {},
     "output_type": "display_data"
    }
   ],
   "execution_count": 307
  }
 ],
 "metadata": {
  "kernelspec": {
   "display_name": "Python 3",
   "language": "python",
   "name": "python3"
  },
  "language_info": {
   "codemirror_mode": {
    "name": "ipython",
    "version": 2
   },
   "file_extension": ".py",
   "mimetype": "text/x-python",
   "name": "python",
   "nbconvert_exporter": "python",
   "pygments_lexer": "ipython2",
   "version": "2.7.6"
  }
 },
 "nbformat": 4,
 "nbformat_minor": 5
}
