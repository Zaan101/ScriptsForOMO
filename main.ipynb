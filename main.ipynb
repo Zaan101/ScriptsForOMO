{
 "cells": [
  {
   "cell_type": "code",
   "id": "initial_id",
   "metadata": {
    "collapsed": true,
    "ExecuteTime": {
     "end_time": "2025-02-16T21:54:48.180680Z",
     "start_time": "2025-02-16T21:54:46.187709Z"
    }
   },
   "source": [
    "from colorsys import yiq_to_rgb\n",
    "from random import Random\n",
    "\n",
    "from rdkit.Chem import AllChem\n",
    "from rdkit import Chem\n",
    "from collections import deque\n",
    "import py3Dmol\n",
    "import math\n",
    "import numpy as np\n",
    "import os\n",
    "import pandas as pd\n",
    "import glob\n",
    "import re\n",
    "\n",
    "from scipy.stats import bootstrap\n"
   ],
   "outputs": [],
   "execution_count": 1
  },
  {
   "metadata": {
    "ExecuteTime": {
     "end_time": "2025-02-16T21:54:48.196505Z",
     "start_time": "2025-02-16T21:54:48.187450Z"
    }
   },
   "cell_type": "code",
   "source": [
    "def xyz_to_array(xyz_file):\n",
    "    #oth index is num atoms\n",
    "    #ith index is ith atom ID\n",
    "    with open(xyz_file, 'r', encoding= 'utf-8') as file:\n",
    "        lines = file.readlines()\n",
    "\n",
    "    num_atoms = int(lines[0].strip())\n",
    "    coordinates = []\n",
    "    coordinates.append(num_atoms)\n",
    "\n",
    "    for line in lines[2:]:\n",
    "        parts = line.split()\n",
    "        x, y, z = map(float, parts[1:4])\n",
    "        coordinates.append([x, y, z])\n",
    "    return coordinates\n",
    "\n",
    "def bfs_traversal(mol,startingID):\n",
    "    visited = set()\n",
    "    queue = deque([startingID])\n",
    "    bfs_order = []\n",
    "    while queue:\n",
    "        atom_id = queue.popleft()\n",
    "        if atom_id not in visited:\n",
    "            visited.add(atom_id)\n",
    "            bfs_order.append(atom_id)\n",
    "        atom = mol.GetAtomWithIdx(atom_id)\n",
    "        for neighbor in atom.GetNeighbors():\n",
    "            if neighbor.GetIdx() not in visited:\n",
    "                queue.append(neighbor.GetIdx())\n",
    "                \n",
    "    bfs_nitrogens = []\n",
    "    for id in bfs_order:\n",
    "        if mol.GetAtomWithIdx(id).GetSymbol() == 'N':\n",
    "            bfs_nitrogens.append(id)\n",
    "        \n",
    "    return bfs_nitrogens\n",
    "\n",
    "def sort_files(s):\n",
    "    return [int(text) if text.isdigit() else text for text in re.split(r'(\\d+)', os.path.basename(s))]\n",
    "\n",
    "\n",
    "\n",
    "class Peptide:\n",
    "\n",
    "    peptide_registry ={} # each peptide will store itself in the library\n",
    "\n",
    "    def __init__(self, smiles_code, PercentCyclization, name, csv_of_properties):\n",
    "        self.molecule = Chem.AddHs(Chem.MolFromSmiles(smiles_code))\n",
    "        AllChem.EmbedMolecule(self.molecule)\n",
    "        self.atom_IDs = [atom.GetIdx() for atom in self.molecule.GetAtoms()]\n",
    "        self.conformers = []\n",
    "        self.amideGroups = []\n",
    "        self.PercentCyclization = PercentCyclization\n",
    "        self.Name = name\n",
    "        self.properties = pd.read_csv(csv_of_properties).to_dict(orient=\"records\")\n",
    "        Peptide.peptide_registry[name] = self #the key is the name, the oobject is the peptide itself\n",
    "        \n",
    "    def getProperties(self):\n",
    "        return self.properties\n",
    "\n",
    "    def getName(self):\n",
    "        return self.Name\n",
    "\n",
    "    def getPercentCyclization(self):\n",
    "        return self.PercentCyclization\n",
    "\n",
    "    def csearch(self):\n",
    "        pass # = Conformer(self, xyz)\n",
    "\n",
    "    def addConformer(self, conformer):\n",
    "        self.conformers.append(conformer)\n",
    "\n",
    "    def getConformers(self):\n",
    "        return self.conformers\n",
    "\n",
    "    def addAmides(self):\n",
    "        self.amideGroups = []\n",
    "        group = Chem.MolFromSmarts('[C](=[O])-[N]')\n",
    "        n_terminus =Chem.MolFromSmarts('[N;H2]')\n",
    "        matches = self.molecule.GetSubstructMatches(group)\n",
    "        n_terminus_match = self.molecule.GetSubstructMatch(n_terminus)\n",
    "        n_terminus_id = n_terminus_match[0]\n",
    "        bfs_order = bfs_traversal(self.molecule,n_terminus_id)\n",
    "        i= 1\n",
    "        for nID in bfs_order:\n",
    "            for match in matches:\n",
    "                if nID in match:\n",
    "                    self.amideGroups.append(AmideGroup(match,i,self))\n",
    "                    i+=1\n",
    "                    \n",
    "                \n",
    "        return \"Added \" + str(len(matches)) + \" Amide groups to GroupIDs.\"\n",
    "\n",
    "\n",
    "class Conformer(Peptide):\n",
    "    def __init__(self, parent_peptide: Peptide, xyz_file, relative_energy):\n",
    "        self.atom_coordinates = xyz_to_array(xyz_file)\n",
    "        self.relative_energy = relative_energy\n",
    "        self.parent_peptide = parent_peptide\n",
    "\n",
    "    def getAmideDistances(self):\n",
    "        distance_matrix = [[0.0 for _ in range(len(self.parent_peptide.amideGroups))] for _ in range(len(self.parent_peptide.amideGroups))]\n",
    "        for i,amid1 in enumerate(self.parent_peptide.amideGroups):\n",
    "            for j,amid2 in enumerate(self.parent_peptide.amideGroups):\n",
    "                if i == j and amid1.getH() is not None:\n",
    "                    distance_matrix[i][j] = 0.0\n",
    "                else:\n",
    "                    amid1H = amid1.getH()\n",
    "                    if amid1H is None:\n",
    "                        distance_matrix[i][j] = -1.0 #prolines have no nitrogen Hydrogen, so the distance is non existant\n",
    "                    else:\n",
    "                        amid2O = amid2.getO()\n",
    "                        amid1H_pos = self.atom_coordinates[amid1H]\n",
    "                        amid2O_pos = self.atom_coordinates[amid2O]\n",
    "                        distance = ((amid1H_pos[0] - amid2O_pos[0])**2 + (amid1H_pos[1] - amid2O_pos[1])**2 + (amid1H_pos[2] - amid2O_pos[2])**2)**0.5\n",
    "                        distance_matrix[i][j] = distance\n",
    "        return distance_matrix\n",
    "\n",
    "\n",
    "\n",
    "\n",
    "class AmideGroup:\n",
    "\n",
    "    def __init__(self, atom_IDs, group_num, Peptide):\n",
    "        self.group_num = group_num\n",
    "        self.atom_IDs = atom_IDs\n",
    "        self.C = self.atom_IDs[0]\n",
    "        self.O = self.atom_IDs[1]\n",
    "        self.N = self.atom_IDs[2]\n",
    "\n",
    "        nitrogen = Peptide.molecule.GetAtomWithIdx(self.N)\n",
    "        neighbors = nitrogen.GetNeighbors()\n",
    "        hydrogen_id = None\n",
    "\n",
    "        for neighbor in neighbors:\n",
    "            if neighbor.GetSymbol() == 'H':\n",
    "                hydrogen_id = neighbor.GetIdx()\n",
    "                break\n",
    "        self.H = hydrogen_id\n",
    "\n",
    "\n",
    "    def getIDs(self):\n",
    "        return self.atom_IDs\n",
    "    def getC(self):\n",
    "        return self.C\n",
    "    def getO(self):\n",
    "        return self.O\n",
    "    def getN(self):\n",
    "        return self.N\n",
    "    def getH(self):\n",
    "        return self.H\n",
    "    def getGroupNum(self):\n",
    "        return self.group_num\n"
   ],
   "id": "7c6e929d8edaf66f",
   "outputs": [],
   "execution_count": 2
  },
  {
   "metadata": {
    "ExecuteTime": {
     "end_time": "2025-02-16T22:48:58.328020Z",
     "start_time": "2025-02-16T22:48:38.044168Z"
    }
   },
   "cell_type": "code",
   "source": [
    "peptides = []\n",
    "df = pd.read_csv(\"PeptideCyclizationSmiles.csv\") #readas all peptide data\n",
    "df = df[['Address','Smiles','Percent cyclization']].dropna() # drops other columns\n",
    "peptide_data = df.set_index('Address').to_dict(orient=\"index\") #makes data a dictionary accessible by the name of the peptide\n",
    "\n",
    "#/Users/zaan/zasaeed@g.hmc.edu - Google Drive/My Drive/OMO Lab - Peptide Cyclization - Zaan Saeed/Data/Peptide Library\n",
    "#/Users/zaansaeed/Google Drive/My Drive/OMO Lab - Peptide Cyclization - Zaan Saeed/Data/Peptide Library\n",
    "for folder_name in os.listdir(\"/Users/zaan/zasaeed@g.hmc.edu - Google Drive/My Drive/OMO Lab - Peptide Cyclization - Zaan Saeed/Data/Peptide Library\"):\n",
    "    if folder_name.endswith(\"XYZ\"):\n",
    "        files = sorted(glob.glob(f\"{\"/Users/zaan/zasaeed@g.hmc.edu - Google Drive/My Drive/OMO Lab - Peptide Cyclization - Zaan Saeed/Data/Peptide Library/\" + folder_name}/**/*\",recursive=True),key=sort_files)\n",
    "        peptide_name = folder_name[:4]\n",
    "        peptide_csv = files[0]\n",
    "        print(folder_name)\n",
    "    \n",
    "    \n",
    "        if peptide_name in peptide_data.keys():\n",
    "            smiles = peptide_data[peptide_name]['Smiles']\n",
    "            percent = peptide_data[peptide_name]['Percent cyclization']\n",
    "            peptide = Peptide(smiles, percent, peptide_name,peptide_csv)\n",
    "            for i,file in enumerate(files):\n",
    "\n",
    "                if file.endswith(\".xyz\"):\n",
    "                    peptide.addConformer(Conformer(peptide, os.path.abspath(file),peptide.getProperties()[i-1]['Potential Energy-OPLS-2005'])) # adds a conformer where the energy for this conformer is at i-1 in the list since i is actually i+1 because the 0th index in files is the csv\n",
    "    \n",
    "            peptides.append(peptide)\n",
    "\n",
    "\n"
   ],
   "id": "513e869bb4d6a912",
   "outputs": [
    {
     "name": "stdout",
     "output_type": "stream",
     "text": [
      "R7C5_XYZ\n",
      "R1C2_XYZ\n",
      "R5C4_XYZ\n",
      "R3C2_XYZ\n",
      "R1C1_XYZ\n",
      "R3C3_XYZ\n",
      "R5C5_XYZ\n",
      "R1C4_XYZ\n",
      "R3C6_XYZ\n",
      "R5C2_XYZ\n",
      "R1C6_XYZ\n",
      "R5C3_XYZ\n",
      "R2C2_XYZ\n",
      "R6C6_XYZ\n",
      "R8C8_XYZ\n",
      "R6C7_XYZ\n",
      "R4C5_XYZ\n",
      "R2C1_XYZ\n",
      "R4C7_XYZ\n",
      "R6C5_XYZ\n",
      "R6C4_XYZ\n",
      "R6C1_XYZ\n",
      "R4C3_XYZ\n",
      "R4C1_XYZ\n",
      "R6C3_XYZ\n",
      "R6C2_XYZ\n",
      "R8C1_XYZ\n",
      "R2C8_XYZ\n",
      "R8C3_XYZ\n",
      "R8C6_XYZ\n",
      "R8C7_XYZ\n",
      "R6C8_XYZ\n",
      "R4C8_XYZ\n",
      "R8C5_XYZ\n",
      "R3C8_XYZ\n",
      "R5C8_XYZ\n"
     ]
    }
   ],
   "execution_count": 74
  },
  {
   "metadata": {
    "ExecuteTime": {
     "end_time": "2025-02-16T22:50:44.255938Z",
     "start_time": "2025-02-16T22:49:31.012932Z"
    }
   },
   "cell_type": "code",
   "source": [
    "def boltzmann(values, properties_of_each_conformer):\n",
    "    numerator = 0\n",
    "    denominator = 0\n",
    "    boltzmann_results = []\n",
    "    new_array = []\n",
    "    for amide_array in range(len(values)):\n",
    "        new_array = []\n",
    "        for amide_row in range(len(values[0])):\n",
    "            new_row =[]\n",
    "            for amide_col in range(len(values[0][0])):\n",
    "                e_term = 0\n",
    "                denominator = 0\n",
    "                numerator = 0\n",
    "                answer = 0\n",
    "                for k in range(len(properties_of_each_conformer)):\n",
    "                    e_term = math.exp(-(properties_of_each_conformer[k]['Potential Energy-OPLS-2005'])/(298*8.314 * 10**-3))\n",
    "                    denominator += e_term\n",
    "                    \n",
    "                    numerator += e_term * values[k][amide_row][amide_col]\n",
    "                    answer = numerator/denominator\n",
    "                new_row.append(answer)\n",
    "            new_array.append(new_row)\n",
    "    boltzmann_results.append(new_array)\n",
    "            \n",
    "    return boltzmann_results            \n",
    "                \n",
    "                \n",
    "\n",
    "\n",
    "\n",
    "boltzmann_amide_distances = {}\n",
    "\n",
    "for peptide in peptides:\n",
    "    peptide.addAmides()\n",
    "    amide_distances_of_all_conformers = []\n",
    "    for conformer in peptide.getConformers():\n",
    "        amide_distances_of_all_conformers.append(conformer.getAmideDistances())\n",
    "        \n",
    "    boltzmann_amide_distances[peptide.getName()] = boltzmann(amide_distances_of_all_conformers, peptide.getProperties())\n",
    "        \n",
    "        \n",
    "        \n",
    "    \n"
   ],
   "id": "c508f082e29275",
   "outputs": [
    {
     "name": "stdout",
     "output_type": "stream",
     "text": [
      "[61, 51, 31, 37, 27, 21, 6, 10, 11, 12, 17]\n",
      "[66, 55, 45, 39, 33, 6, 22, 11, 12, 13, 18]\n",
      "[61, 5, 15, 18, 25, 29, 46, 35, 36, 37, 42]\n",
      "[86, 75, 55, 61, 5, 11, 38, 16, 42, 43, 44, 49]\n",
      "[66, 6, 16, 23, 28, 35, 51, 40, 41, 42, 47]\n",
      "[78, 3, 23, 8, 27, 32, 59, 37, 63, 64, 65, 70]\n",
      "[62, 52, 42, 38, 5, 9, 26, 15, 16, 17, 22]\n",
      "[59, 53, 43, 39, 33, 6, 22, 11, 12, 13, 18]\n",
      "[80, 77, 17, 6, 28, 32, 59, 37, 63, 64, 65, 70]\n",
      "[66, 55, 45, 5, 11, 15, 32, 21, 22, 23, 28]\n",
      "[61, 58, 48, 36, 33, 6, 22, 11, 12, 13, 18]\n",
      "[58, 3, 13, 17, 22, 26, 43, 32, 33, 34, 39]\n",
      "[87, 76, 66, 5, 11, 37, 15, 53, 42, 43, 44, 49]\n",
      "[62, 59, 49, 37, 34, 6, 23, 12, 13, 14, 19]\n",
      "[71, 6, 26, 11, 30, 35, 38, 56, 44, 45, 46, 51]\n",
      "[71, 6, 16, 26, 32, 39, 56, 45, 46, 47, 52]\n",
      "[71, 61, 41, 47, 37, 5, 9, 25, 14, 15, 16, 21]\n",
      "[85, 6, 16, 23, 28, 54, 32, 70, 59, 60, 61, 66]\n",
      "[77, 6, 26, 11, 36, 42, 46, 62, 51, 52, 53, 58]\n",
      "[64, 54, 44, 40, 34, 6, 23, 12, 13, 14, 19]\n",
      "[60, 54, 44, 40, 34, 6, 23, 12, 13, 14, 19]\n",
      "[67, 6, 16, 23, 28, 35, 52, 41, 42, 43, 48]\n",
      "[67, 3, 23, 8, 27, 32, 36, 52, 41, 42, 43, 48]\n",
      "[73, 6, 26, 11, 33, 38, 42, 58, 47, 48, 49, 54]\n",
      "[57, 53, 43, 38, 34, 6, 23, 12, 13, 14, 19]\n",
      "[67, 56, 46, 40, 34, 6, 23, 12, 13, 14, 19]\n",
      "[74, 6, 26, 11, 33, 38, 41, 59, 47, 48, 49, 54]\n",
      "[82, 6, 16, 20, 25, 51, 29, 67, 56, 57, 58, 63]\n",
      "[68, 3, 23, 8, 27, 32, 35, 53, 41, 42, 43, 48]\n",
      "[67, 64, 44, 50, 32, 29, 26, 8, 16, 17, 18, 23]\n",
      "[78, 6, 26, 11, 36, 42, 45, 63, 51, 52, 53, 58]\n",
      "[64, 6, 16, 20, 25, 32, 49, 38, 39, 40, 45]\n",
      "[70, 6, 26, 11, 30, 35, 39, 55, 44, 45, 46, 51]\n",
      "[72, 62, 42, 48, 38, 5, 8, 26, 14, 15, 16, 21]\n",
      "[81, 6, 26, 11, 30, 35, 62, 40, 66, 67, 68, 73]\n",
      "[61, 6, 16, 20, 25, 29, 46, 35, 36, 37, 42]\n"
     ]
    }
   ],
   "execution_count": 75
  },
  {
   "metadata": {
    "ExecuteTime": {
     "end_time": "2025-02-16T22:53:14.921186Z",
     "start_time": "2025-02-16T22:53:14.899143Z"
    }
   },
   "cell_type": "code",
   "source": [
    "r1c1= boltzmann_amide_distances.pop('R1C1')\n",
    "\n",
    "print(r1c1)\n"
   ],
   "id": "ceb95a351573877c",
   "outputs": [
    {
     "ename": "KeyError",
     "evalue": "'R1C1'",
     "output_type": "error",
     "traceback": [
      "\u001B[0;31m---------------------------------------------------------------------------\u001B[0m",
      "\u001B[0;31mKeyError\u001B[0m                                  Traceback (most recent call last)",
      "Cell \u001B[0;32mIn[88], line 1\u001B[0m\n\u001B[0;32m----> 1\u001B[0m r1c1\u001B[38;5;241m=\u001B[39m \u001B[43mboltzmann_amide_distances\u001B[49m\u001B[38;5;241;43m.\u001B[39;49m\u001B[43mpop\u001B[49m\u001B[43m(\u001B[49m\u001B[38;5;124;43m'\u001B[39;49m\u001B[38;5;124;43mR1C1\u001B[39;49m\u001B[38;5;124;43m'\u001B[39;49m\u001B[43m)\u001B[49m\n\u001B[1;32m      3\u001B[0m \u001B[38;5;28mprint\u001B[39m(r1c1)\n",
      "\u001B[0;31mKeyError\u001B[0m: 'R1C1'"
     ]
    }
   ],
   "execution_count": 88
  },
  {
   "metadata": {
    "ExecuteTime": {
     "end_time": "2025-02-16T22:53:22.473061Z",
     "start_time": "2025-02-16T22:53:22.470520Z"
    }
   },
   "cell_type": "code",
   "source": "print(r1c1)",
   "id": "8793191237ca1151",
   "outputs": [
    {
     "name": "stdout",
     "output_type": "stream",
     "text": [
      "[[[0.0, 6.768659094864016, 5.759690461532714, 10.5696685294486, 8.752583608581753, 10.98340626132631], [11.310153142718605, 0.0, 6.543277307141431, 11.885683124206789, 10.047989276039429, 11.464874391836926], [7.786121140708103, 9.087055829659718, 0.0, 7.134900756267612, 7.660872905271289, 9.049232492276138], [7.117314084894646, 5.016185580935813, 4.498853238585192, 0.0, 6.004714090550492, 7.8176742893698545], [4.855520636292263, 10.457315088316326, 9.08352690225936, 5.172948740707667, 0.0, 2.1607205742467426], [10.723999949921806, 2.159391633694803, 8.843690571393838, 10.892661161924849, 9.925872920410388, 0.0]]]\n"
     ]
    }
   ],
   "execution_count": 89
  },
  {
   "metadata": {
    "ExecuteTime": {
     "end_time": "2025-02-16T22:53:29.123706Z",
     "start_time": "2025-02-16T22:53:29.119867Z"
    }
   },
   "cell_type": "code",
   "source": [
    "def pad2DArray(array, max): #assumes that array is a square, and is being extended to be max * max size\n",
    "    for i in array:\n",
    "        for j in i:\n",
    "            while(len(j)<max):\n",
    "                j.append(0.0)\n",
    "        while(len(i)<max):\n",
    "            i.append([0]*max)\n",
    "    return array\n"
   ],
   "id": "b251b924508a5cc9",
   "outputs": [],
   "execution_count": 91
  },
  {
   "metadata": {
    "ExecuteTime": {
     "end_time": "2025-02-16T22:53:39.687557Z",
     "start_time": "2025-02-16T22:53:39.684680Z"
    }
   },
   "cell_type": "code",
   "source": [
    "r1c1= pad2DArray(r1c1,7)\n",
    "print(r1c1)"
   ],
   "id": "bcf31aba5715aaf0",
   "outputs": [
    {
     "name": "stdout",
     "output_type": "stream",
     "text": [
      "[[[0.0, 6.768659094864016, 5.759690461532714, 10.5696685294486, 8.752583608581753, 10.98340626132631, 0.0], [11.310153142718605, 0.0, 6.543277307141431, 11.885683124206789, 10.047989276039429, 11.464874391836926, 0.0], [7.786121140708103, 9.087055829659718, 0.0, 7.134900756267612, 7.660872905271289, 9.049232492276138, 0.0], [7.117314084894646, 5.016185580935813, 4.498853238585192, 0.0, 6.004714090550492, 7.8176742893698545, 0.0], [4.855520636292263, 10.457315088316326, 9.08352690225936, 5.172948740707667, 0.0, 2.1607205742467426, 0.0], [10.723999949921806, 2.159391633694803, 8.843690571393838, 10.892661161924849, 9.925872920410388, 0.0, 0.0], [0, 0, 0, 0, 0, 0, 0]]]\n"
     ]
    }
   ],
   "execution_count": 94
  },
  {
   "metadata": {
    "ExecuteTime": {
     "end_time": "2025-02-16T22:53:44.034295Z",
     "start_time": "2025-02-16T22:53:44.031292Z"
    }
   },
   "cell_type": "code",
   "source": [
    "X = []\n",
    "Y = []\n",
    "for name, distance_matrix in boltzmann_amide_distances.items():\n",
    "    X.append(pad2DArray(distance_matrix,7))\n",
    "    if (Peptide.peptide_registry[name].getPercentCyclization()>90):\n",
    "        Y.append(1)\n",
    "    else:\n",
    "        Y.append(0)\n",
    "\n",
    "#    elif(Peptide.peptide_registry[name].getPercentCyclization()>80 and Peptide.peptide_registry[name].getPercentCyclization()<=96.5):\n",
    "  #      Y.append(1)\n"
   ],
   "id": "41329f80753b6283",
   "outputs": [],
   "execution_count": 95
  },
  {
   "metadata": {
    "ExecuteTime": {
     "end_time": "2025-02-16T22:55:52.132563Z",
     "start_time": "2025-02-16T22:55:52.130139Z"
    }
   },
   "cell_type": "code",
   "source": [
    "X = np.array(X)\n",
    "X = X.reshape(len(X), -1)\n",
    "Y = np.array(Y)\n",
    "r1c1 =np.array(r1c1)\n",
    "r1c1 =r1c1.reshape(len(r1c1), -1)\n",
    "print(Y)\n",
    "print(len(r1c1))\n"
   ],
   "id": "dd275df4c6e7b28c",
   "outputs": [
    {
     "name": "stdout",
     "output_type": "stream",
     "text": [
      "[1 1 1 1 1 1 1 1 1 1 0 0 0 0 0 1 1 1 0 0 0 1 1 0 0 0 1 0 0 0 0 1 0 1 1]\n",
      "1\n"
     ]
    }
   ],
   "execution_count": 101
  },
  {
   "metadata": {
    "ExecuteTime": {
     "end_time": "2025-02-16T22:56:18.340844Z",
     "start_time": "2025-02-16T22:55:57.131609Z"
    }
   },
   "cell_type": "code",
   "source": [
    "import numpy as np\n",
    "from sklearn.ensemble import RandomForestClassifier\n",
    "from sklearn.model_selection import train_test_split, GridSearchCV\n",
    "from sklearn.metrics import accuracy_score, classification_report\n",
    "\n",
    "\n",
    "# Splitting data into training and testing sets\n",
    "X_train, X_test, Y_train, Y_test = train_test_split(X, Y, test_size=0.4, random_state=42)\n",
    "\n",
    "param_grid = {\n",
    "    'n_estimators': [100, 200, 300],  # Number of trees in the forest\n",
    "    'max_depth': [None, 10, 20, 30],  # Maximum depth of each tree\n",
    "    'min_samples_split': [2, 5, 10],  # Minimum number of samples to split an internal node\n",
    "    'min_samples_leaf': [1, 2, 4],  # Minimum number of samples required at a leaf node\n",
    "    'max_features': ['sqrt', 'log2'],  # Number of features to consider at each split\n",
    "    'bootstrap': [True, False],  # Whether bootstrap samples are used when building trees\n",
    "}\n",
    "model = RandomForestClassifier(random_state=42)\n",
    "grid_search = GridSearchCV(estimator=model, param_grid=param_grid, n_jobs=-1,cv=4,verbose=2, scoring='accuracy')\n",
    "grid_search.fit(X_train, Y_train)\n",
    "print(grid_search.best_params_)\n",
    "\n"
   ],
   "id": "f277d37c75ad3cee",
   "outputs": [
    {
     "name": "stdout",
     "output_type": "stream",
     "text": [
      "Fitting 4 folds for each of 432 candidates, totalling 1728 fits\n",
      "{'bootstrap': False, 'max_depth': None, 'max_features': 'log2', 'min_samples_leaf': 2, 'min_samples_split': 5, 'n_estimators': 200}\n"
     ]
    },
    {
     "name": "stderr",
     "output_type": "stream",
     "text": [
      "/Users/zaan/PycharmProjects/ScriptsForOMO/.venv/lib/python3.12/site-packages/numpy/ma/core.py:2820: RuntimeWarning: invalid value encountered in cast\n",
      "  _data = np.array(data, dtype=dtype, copy=copy,\n"
     ]
    }
   ],
   "execution_count": 102
  },
  {
   "metadata": {
    "ExecuteTime": {
     "end_time": "2025-02-16T22:56:27.791508Z",
     "start_time": "2025-02-16T22:56:27.774292Z"
    }
   },
   "cell_type": "code",
   "source": [
    "best_rf=grid_search.best_estimator_\n",
    "y_pred=grid_search.predict(X_test)\n",
    "\n",
    "accuracy = accuracy_score(Y_test, y_pred)\n",
    "print(\"Accuracy: \",accuracy )\n",
    "print(classification_report(Y_test,y_pred))"
   ],
   "id": "4bf967d55826a721",
   "outputs": [
    {
     "name": "stdout",
     "output_type": "stream",
     "text": [
      "Accuracy:  0.6428571428571429\n",
      "              precision    recall  f1-score   support\n",
      "\n",
      "           0       0.50      0.60      0.55         5\n",
      "           1       0.75      0.67      0.71         9\n",
      "\n",
      "    accuracy                           0.64        14\n",
      "   macro avg       0.62      0.63      0.63        14\n",
      "weighted avg       0.66      0.64      0.65        14\n",
      "\n"
     ]
    }
   ],
   "execution_count": 103
  },
  {
   "metadata": {
    "ExecuteTime": {
     "end_time": "2025-02-16T22:56:57.156265Z",
     "start_time": "2025-02-16T22:56:57.142600Z"
    }
   },
   "cell_type": "code",
   "source": [
    "r1c1_pred = grid_search.predict(r1c1)\n",
    "print(r1c1_pred)"
   ],
   "id": "ccdc85cc72a06d1",
   "outputs": [
    {
     "name": "stdout",
     "output_type": "stream",
     "text": [
      "[1]\n"
     ]
    }
   ],
   "execution_count": 104
  }
 ],
 "metadata": {
  "kernelspec": {
   "display_name": "Python 3",
   "language": "python",
   "name": "python3"
  },
  "language_info": {
   "codemirror_mode": {
    "name": "ipython",
    "version": 2
   },
   "file_extension": ".py",
   "mimetype": "text/x-python",
   "name": "python",
   "nbconvert_exporter": "python",
   "pygments_lexer": "ipython2",
   "version": "2.7.6"
  }
 },
 "nbformat": 4,
 "nbformat_minor": 5
}
