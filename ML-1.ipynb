{
 "cells": [
  {
   "cell_type": "code",
   "id": "initial_id",
   "metadata": {
    "collapsed": true,
    "ExecuteTime": {
     "end_time": "2025-04-02T20:16:22.903627Z",
     "start_time": "2025-04-02T20:16:22.868037Z"
    }
   },
   "source": [
    "import os\n",
    "import pandas as pd\n",
    "import numpy as np\n",
    "from requests.packages import target\n",
    "\n",
    "main_dir = os.path.abspath(\"/Users/zaansaeed/Peptides\")\n",
    "X = []\n",
    "max_array_len = 6\n",
    "\n",
    "\n",
    "def pad_square_dataframe_to_array(df,target_size,fill_value):\n",
    "    size = df.shape[0]\n",
    "    original = df.to_numpy()\n",
    "    padded = np.full((target_size,target_size),fill_value)\n",
    "    padded[:size,:size] = original\n",
    "    return pd.DataFrame(padded).values.tolist()\n",
    "\n",
    "for item in os.listdir(main_dir):\n",
    "    working_dir = os.path.join(main_dir, item)\n",
    "    if os.path.isdir(working_dir):\n",
    "        os.chdir(working_dir)\n",
    "        for file in os.listdir(working_dir):\n",
    "            if file.endswith(\"-BWdistances.csv\"):\n",
    "                print(file)\n",
    "                data = pd.read_csv(file,header=None,index_col=None) \n",
    "                X.append(pad_square_dataframe_to_array(data,5,0))"
   ],
   "outputs": [
    {
     "name": "stdout",
     "output_type": "stream",
     "text": [
      "R4C6-BWdistances.csv\n",
      "R4C1-BWdistances.csv\n",
      "R6C2-BWdistances.csv\n",
      "R8C3-BWdistances.csv\n",
      "R8C4-BWdistances.csv\n",
      "R2C3-BWdistances.csv\n",
      "R2C4-BWdistances.csv\n",
      "R6C3-BWdistances.csv\n",
      "R6C4-BWdistances.csv\n",
      "R4C7-BWdistances.csv\n",
      "R2C5-BWdistances.csv\n",
      "R2C2-BWdistances.csv\n",
      "R8C5-BWdistances.csv\n",
      "R8C2-BWdistances.csv\n",
      "R3C7-BWdistances.csv\n",
      "R1C3-BWdistances.csv\n",
      "R1C4-BWdistances.csv\n",
      "R7C6-BWdistances.csv\n",
      "R7C1-BWdistances.csv\n",
      "R5C5-BWdistances.csv\n",
      "R5C2-BWdistances.csv\n",
      "R1C5-BWdistances.csv\n",
      "R1C2-BWdistances.csv\n",
      "R3C6-BWdistances.csv\n",
      "R3C1-BWdistances.csv\n",
      "R5C3-BWdistances.csv\n",
      "R5C4-BWdistances.csv\n",
      "R7C7-BWdistances.csv\n",
      "R8C7-BWdistances.csv\n",
      "R2C7-BWdistances.csv\n",
      "R4C2-BWdistances.csv\n",
      "R4C5-BWdistances.csv\n",
      "R6C1-BWdistances.csv\n",
      "R6C6-BWdistances.csv\n",
      "R2C1-BWdistances.csv\n",
      "R2C6-BWdistances.csv\n",
      "R8C1-BWdistances.csv\n",
      "R8C6-BWdistances.csv\n",
      "R6C7-BWdistances.csv\n",
      "R4C4-BWdistances.csv\n",
      "R4C3-BWdistances.csv\n",
      "R7C2-BWdistances.csv\n",
      "R7C5-BWdistances.csv\n",
      "R5C1-BWdistances.csv\n",
      "R5C6-BWdistances.csv\n",
      "R3C4-BWdistances.csv\n",
      "R3C3-BWdistances.csv\n",
      "R1C7-BWdistances.csv\n",
      "R5C7-BWdistances.csv\n",
      "R7C4-BWdistances.csv\n",
      "R7C3-BWdistances.csv\n",
      "R1C1-BWdistances.csv\n",
      "R1C6-BWdistances.csv\n",
      "R3C2-BWdistances.csv\n",
      "R3C5-BWdistances.csv\n"
     ]
    }
   ],
   "execution_count": 19
  },
  {
   "metadata": {
    "ExecuteTime": {
     "end_time": "2025-04-02T20:16:26.050393Z",
     "start_time": "2025-04-02T20:16:26.048360Z"
    }
   },
   "cell_type": "code",
   "source": "print(X[0])",
   "id": "392bb065363a942e",
   "outputs": [
    {
     "name": "stdout",
     "output_type": "stream",
     "text": [
      "[[-1, -1, -1, -1, -1], [10, 0, 7, 7, 9], [-1, -1, -1, -1, -1], [7, 6, 9, 0, 5], [-1, -1, -1, -1, -1]]\n"
     ]
    }
   ],
   "execution_count": 20
  }
 ],
 "metadata": {
  "kernelspec": {
   "display_name": "Python 3",
   "language": "python",
   "name": "python3"
  },
  "language_info": {
   "codemirror_mode": {
    "name": "ipython",
    "version": 2
   },
   "file_extension": ".py",
   "mimetype": "text/x-python",
   "name": "python",
   "nbconvert_exporter": "python",
   "pygments_lexer": "ipython2",
   "version": "2.7.6"
  }
 },
 "nbformat": 4,
 "nbformat_minor": 5
}
