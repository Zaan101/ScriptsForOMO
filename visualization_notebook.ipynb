{
 "cells": [
  {
   "metadata": {
    "ExecuteTime": {
     "end_time": "2025-05-19T18:13:22.616218Z",
     "start_time": "2025-05-19T18:13:22.611795Z"
    }
   },
   "cell_type": "code",
   "outputs": [],
   "execution_count": 29,
   "source": [
    "from rdkit import Chem\n",
    "from rdkit.Chem import AllChem\n",
    "import py3Dmol\n",
    "\n",
    "def visualize_molecule_with_labels(mol, highlight_atoms):\n",
    "    \"\"\"\n",
    "    Visualizes a molecule from a SMILES string and labels specific atom IDs.\n",
    "\n",
    "    Parameters:\n",
    "        highlight_atoms (list of tuples): List of tuples, each containing atom IDs to highlight.\n",
    "    \"\"\"\n",
    "\n",
    "    AllChem.EmbedMolecule(mol)\n",
    "\n",
    "    # Convert molecule to MOLBLOCK format for 3D visualization\n",
    "    mb = Chem.MolToMolBlock(mol)\n",
    "\n",
    "    # Initialize Py3Dmol viewer\n",
    "    view = py3Dmol.view(width=600, height=500)\n",
    "    view.addModel(mb, \"mol\")\n",
    "\n",
    "    # Style the whole molecule\n",
    "    view.setStyle({\"stick\": {}})\n",
    "\n",
    "    # Highlight atoms based on the given tuples\n",
    "    for atom_id in highlight_atoms:\n",
    "        conf = mol.GetConformer()\n",
    "        pos = conf.GetAtomPosition(atom_id)\n",
    "        view.addLabel(str(atom_id),\n",
    "                      {\"position\": {\"x\": pos.x, \"y\": pos.y, \"z\": pos.z},\n",
    "                       \"fontSize\": 12, \"fontColor\": \"black\", \"backgroundColor\": \"white\"})\n",
    "    view.zoomTo()\n",
    "    view.show()\n",
    "\n"
   ],
   "id": "8929f58c9431a0ea"
  }
 ],
 "metadata": {
  "kernelspec": {
   "display_name": "Python 3",
   "language": "python",
   "name": "python3"
  },
  "language_info": {
   "codemirror_mode": {
    "name": "ipython",
    "version": 2
   },
   "file_extension": ".py",
   "mimetype": "text/x-python",
   "name": "python",
   "nbconvert_exporter": "python",
   "pygments_lexer": "ipython2",
   "version": "2.7.6"
  }
 },
 "nbformat": 4,
 "nbformat_minor": 5
}
