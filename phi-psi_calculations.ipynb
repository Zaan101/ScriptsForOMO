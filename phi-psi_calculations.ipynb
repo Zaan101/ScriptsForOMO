{
 "cells": [
  {
   "cell_type": "code",
   "id": "initial_id",
   "metadata": {
    "collapsed": true,
    "ExecuteTime": {
     "end_time": "2025-05-19T17:38:35.767937Z",
     "start_time": "2025-05-19T17:38:35.765375Z"
    }
   },
   "source": [
    "from rdkit import Chem\n",
    "from functions import bfs_traversal, find_n_terminus\n",
    "from rdkit.Chem import AllChem\n",
    "import numpy as np\n"
   ],
   "outputs": [],
   "execution_count": 2
  },
  {
   "metadata": {
    "ExecuteTime": {
     "end_time": "2025-05-19T21:07:29.528865Z",
     "start_time": "2025-05-19T21:07:29.495878Z"
    }
   },
   "cell_type": "code",
   "source": [
    "smiles = \"CC(C)[C@H](C(N[C@H](CCC(OCC=C)=O)C(NC(C)(C)C(N(c(cc(cc1)C(NC)=O)c1N1C)C1=O)=O)=O)=O)N(C)C([C@H](Cc1c[nH]c2c1cccc2)NC(CN(C)C(CCN)=O)=O)=O\"\n",
    "mol = Chem.MolFromSmiles(smiles)\n",
    "mol = Chem.AddHs(mol)\n",
    "print(mol.GetNumAtoms())\n",
    "\n",
    "xyz_file = \"/Users/zaan/zasaeed@g.hmc.edu - Google Drive/My Drive/OMO Lab - Peptide Cyclization - Zaan Saeed/Data/NewPeptideLibrary/Peptide_R1C1/R1C1_Conformations/R1C1_Conformation_1.xyz\"\n",
    "\n",
    "def load_xyz_coords(mol, xyz_path):\n",
    "    conf = Chem.Conformer(mol.GetNumAtoms())\n",
    "\n",
    "    with open(xyz_path, 'r') as f:\n",
    "        lines = f.readlines()\n",
    "        lines = lines[2:]\n",
    "\n",
    "        for i, line in enumerate(lines):\n",
    "            tokens = line.strip().split()\n",
    "            if len(tokens) < 4:\n",
    "                continue\n",
    "            x, y, z = map(float, tokens[1:4])\n",
    "            conf.SetAtomPosition(i, (x, y, z))\n",
    "\n",
    "    mol.RemoveAllConformers()\n",
    "    mol.AddConformer(conf, assignId=True)\n",
    "    return mol\n",
    "\n",
    "mol = load_xyz_coords(mol, xyz_file)\n",
    "\n",
    "\n",
    "\n",
    "n_terminus = find_n_terminus(mol)\n",
    "nitrogen_order = bfs_traversal(mol, n_terminus)\n",
    "###########\n",
    "\n",
    "n_terminus_residue_normal = mol.GetSubstructMatches(Chem.MolFromSmarts('[NH2]C[C](=O)[N]'))\n",
    "n_terminus_residue_abnormal = mol.GetSubstructMatches(Chem.MolFromSmarts('[NH2]CC[C](=O)[N]'))\n",
    "\n",
    "\n",
    "\n",
    "normal_residues = mol.GetSubstructMatches(Chem.MolFromSmiles('C(=O)NCC(=O)N'))\n",
    "abnormal_residues = mol.GetSubstructMatches(Chem.MolFromSmiles('C(=O)NCCC(=O)N'))\n",
    "\n",
    "all_residues = normal_residues + abnormal_residues +n_terminus_residue_normal + n_terminus_residue_abnormal\n",
    "all_residues = list(all_residues)\n",
    "############## get rid of asparagine\n",
    "\n",
    "query1 = Chem.MolFromSmarts('C(=O)[N]C[C](=O)[NH2]')\n",
    "query2= Chem.MolFromSmarts('C(=O)[N]CC[C](=O)[NH2]')\n",
    "asparagines = mol.GetSubstructMatches(query1)+mol.GetSubstructMatches(query2)\n",
    "\n",
    "\n",
    "for asparagine in asparagines:\n",
    "    for residue in all_residues:\n",
    "        if asparagine[-1] in residue:\n",
    "            all_residues.remove(residue)\n",
    "##############\n",
    "\n",
    "\n",
    "ordered_residues = []\n",
    "\n",
    "for id in nitrogen_order:\n",
    "    for residue in all_residues:\n",
    "        if id in residue:\n",
    "            ordered_residues.append(residue)\n",
    "            all_residues.remove(residue)\n",
    "print(ordered_residues)\n",
    "    # convert xyz to mol object, iterate thru the atoms figuring out which ones to calculate dihederal of, and then get coordinates #thru mol commands (.getposition) or sort"
   ],
   "id": "5cfa86e76a20c0f7",
   "outputs": [
    {
     "name": "stdout",
     "output_type": "stream",
     "text": [
      "125\n",
      "[(61, 60, 59, 58, 62, 56), (58, 62, 56, 55, 54, 63, 53), (54, 63, 53, 42, 41, 64, 39), (41, 64, 39, 3, 4, 38, 5), (4, 38, 5, 6, 15, 37, 16), (15, 37, 16, 17, 20, 36, 21)]\n"
     ]
    }
   ],
   "execution_count": 58
  },
  {
   "metadata": {
    "ExecuteTime": {
     "end_time": "2025-05-19T21:07:31.867758Z",
     "start_time": "2025-05-19T21:07:31.860352Z"
    }
   },
   "cell_type": "code",
   "source": [
    "def calculate_dihedrals(residue):\n",
    "    def get_dihedral_angle(p1, p2, p3, p4):\n",
    "        \"\"\"Calculate the dihedral angle between four points in 3D space.\"\"\"\n",
    "        # Convert to numpy arrays\n",
    "        p1, p2, p3, p4 = map(np.array, (p1, p2, p3, p4))\n",
    "\n",
    "        # Bond vectors\n",
    "        b1 = p2 - p1\n",
    "        b2 = p3 - p2\n",
    "        b3 = p4 - p3\n",
    "\n",
    "        # Normal vectors\n",
    "        n1 = np.cross(b1, b2)\n",
    "        n2 = np.cross(b2, b3)\n",
    "\n",
    "        # Normalize normals\n",
    "        n1 /= np.linalg.norm(n1)\n",
    "        n2 /= np.linalg.norm(n2)\n",
    "\n",
    "        # Normalize b2\n",
    "        b2_unit = b2 / np.linalg.norm(b2)\n",
    "\n",
    "        # Compute the angle\n",
    "        x = np.dot(n1, n2)\n",
    "        y = np.dot(np.cross(n1, n2), b2_unit)\n",
    "\n",
    "        angle = np.arctan2(y, x)\n",
    "        return np.degrees(angle)\n",
    "\n",
    "\n",
    "\n",
    "    if len(residue) == 5: #n-terminus case (normal) (5000,5000,psi) [NH2]C[C](=O)[N]\n",
    "        temp_dihedrals = []\n",
    "        temp_dihedrals.append(5000)\n",
    "        temp_dihedrals.append(5000)\n",
    "        p1= mol.GetConformer().GetAtomPosition(residue[0])\n",
    "        p2 = mol.GetConformer().GetAtomPosition(residue[1])\n",
    "        p3= mol.GetConformer().GetAtomPosition(residue[2])\n",
    "        p4 = mol.GetConformer().GetAtomPosition(residue[4])\n",
    "        temp_dihedrals.append(get_dihedral_angle(p1,p2,p3,p4))\n",
    "        return temp_dihedrals\n",
    "\n",
    "    if len(residue) == 6: #n-terminus case (abnormal) (5000,theta,psi) [NH2]CC[C](=O)[N]\n",
    "        temp_dihedrals = []\n",
    "        temp_dihedrals.append(5000)\n",
    "        p1= mol.GetConformer().GetAtomPosition(residue[0])\n",
    "        p2= mol.GetConformer().GetAtomPosition(residue[1])\n",
    "        p3=mol.GetConformer().GetAtomPosition(residue[2])\n",
    "        p4 = mol.GetConformer().GetAtomPosition(residue[3])\n",
    "        temp_dihedrals.append(get_dihedral_angle(p1,p2,p3,p4))\n",
    "        p1= mol.GetConformer().GetAtomPosition(residue[1])\n",
    "        p2= mol.GetConformer().GetAtomPosition(residue[2])\n",
    "        p3=mol.GetConformer().GetAtomPosition(residue[3])\n",
    "        p4 = mol.GetConformer().GetAtomPosition(residue[5])\n",
    "\n",
    "        temp_dihedrals.append(get_dihedral_angle(p1,p2,p3,p4))\n",
    "        return temp_dihedrals\n",
    "    if len(residue) == 7: #normal   (phi,5000,psi) C(=O)NCC(=O)N\n",
    "        temp_dihedrals = []\n",
    "        p1= mol.GetConformer().GetAtomPosition(residue[0])\n",
    "        p2 = mol.GetConformer().GetAtomPosition(residue[2])\n",
    "        p3 = mol.GetConformer().GetAtomPosition(residue[3])\n",
    "        p4 = mol.GetConformer().GetAtomPosition(residue[4])\n",
    "        temp_dihedrals.append(get_dihedral_angle(p1,p2,p3,p4))\n",
    "        temp_dihedrals.append(5000)\n",
    "        p1= mol.GetConformer().GetAtomPosition(residue[2])\n",
    "        p2 = mol.GetConformer().GetAtomPosition(residue[3])\n",
    "        p3 = mol.GetConformer().GetAtomPosition(residue[4])\n",
    "        p4 = mol.GetConformer().GetAtomPosition(residue[6])\n",
    "        temp_dihedrals.append(get_dihedral_angle(p1,p2,p3,p4))\n",
    "        return temp_dihedrals\n",
    "\n",
    "    if len(residue)==8: #abnormal case (phi,theta,psi) C(=O)NCCC(=O)N\n",
    "        temp_dihedrals = []\n",
    "        p1= mol.GetConformer().GetAtomPosition(residue[0])\n",
    "        p2 = mol.GetConformer().GetAtomPosition(residue[2])\n",
    "        p3 = mol.GetConformer().GetAtomPosition(residue[3])\n",
    "        p4 = mol.GetConformer().GetAtomPosition(residue[4])\n",
    "        temp_dihedrals.append(get_dihedral_angle(p1,p2,p3,p4))\n",
    "        p1= mol.GetConformer().GetAtomPosition(residue[2])\n",
    "        p2 = mol.GetConformer().GetAtomPosition(residue[3])\n",
    "        p3 = mol.GetConformer().GetAtomPosition(residue[4])\n",
    "        p4 = mol.GetConformer().GetAtomPosition(residue[5])\n",
    "        temp_dihedrals.append(get_dihedral_angle(p1,p2,p3,p4))\n",
    "        p1= mol.GetConformer().GetAtomPosition(residue[3])\n",
    "        p2 = mol.GetConformer().GetAtomPosition(residue[4])\n",
    "        p3 = mol.GetConformer().GetAtomPosition(residue[5])\n",
    "        p4 = mol.GetConformer().GetAtomPosition(residue[7])\n",
    "        temp_dihedrals.append(get_dihedral_angle(p1,p2,p3,p4))\n",
    "        return temp_dihedrals\n",
    "\n",
    "\n",
    "\n",
    "\n",
    "\n"
   ],
   "id": "a13d218e0b37074c",
   "outputs": [],
   "execution_count": 59
  },
  {
   "metadata": {
    "ExecuteTime": {
     "end_time": "2025-05-19T21:07:34.708527Z",
     "start_time": "2025-05-19T21:07:34.633901Z"
    }
   },
   "cell_type": "code",
   "source": [
    "dihedrals = []\n",
    "for residue in ordered_residues:\n",
    "    dihedrals.append(calculate_dihedrals(residue))\n",
    "print(dihedrals)\n",
    "len(dihedrals)\n",
    "for d in dihedrals:\n",
    "    print(len(d))"
   ],
   "id": "6697f3d452eec9d8",
   "outputs": [
    {
     "name": "stdout",
     "output_type": "stream",
     "text": [
      "[[5000, np.float64(-177.45900344010505), np.float64(108.2113555883941)], [np.float64(-77.69454543958622), 5000, np.float64(-17.539564460285558)], [np.float64(-150.27934392974552), 5000, np.float64(154.51728140221815)], [np.float64(-64.90787024394047), 5000, np.float64(105.50862493620524)], [np.float64(135.37661903451843), 5000, np.float64(-16.598705858775052)], [np.float64(-158.0124423693613), 5000, np.float64(78.34102446328443)]]\n",
      "3\n",
      "3\n",
      "3\n",
      "3\n",
      "3\n",
      "3\n"
     ]
    }
   ],
   "execution_count": 60
  }
 ],
 "metadata": {
  "kernelspec": {
   "display_name": "Python 3",
   "language": "python",
   "name": "python3"
  },
  "language_info": {
   "codemirror_mode": {
    "name": "ipython",
    "version": 2
   },
   "file_extension": ".py",
   "mimetype": "text/x-python",
   "name": "python",
   "nbconvert_exporter": "python",
   "pygments_lexer": "ipython2",
   "version": "2.7.6"
  }
 },
 "nbformat": 4,
 "nbformat_minor": 5
}
